{
 "cells": [
  {
   "cell_type": "markdown",
   "id": "f8e3aa85",
   "metadata": {
    "id": "f8e3aa85"
   },
   "source": [
    "# Homework 1\n",
    "\n",
    "You will turn in this notebook without any of the data files. All cells must be executed and the notebook saved with output included. You must also save your fully executed notebook as a pdf following the instructions in the Student Handbook posted on Canvas.\n",
    "\n",
    "All of the **Problem** cells serve as markers. We will use them to divide all of the submitted notebooks into new notebooks that contain ONLY answers to one problem at a time. **Do not move or edit the Problem cells**. Always put your answers in the provided code or markdown (text) cells.\n",
    "\n",
    "Debugging tip: Python error messages are terrible! It can be scary and confusing to see hundreds of lines of errors pop up. **Most of the error is just *smoke*. Ignore it and scroll to the bottom to find the *fire*.** Try googling the relevant parts of the error message to debug.\n",
    "\n",
    "If you get stuck for more than 30 minutes on one problem when working alone, ask a TA or post on Ed Discussion. If you are working with others, ask if you get stuck for more than 15 minutes.\n",
    "\n",
    "**If you use any sources aside from the standard documentation of Python libraries, you must cite the sources (e.g., StackOverflow links) used to answer the below questions. If you use ChatGPT or another AI system, you must include proof of the prompt you used, as well as a line-by-line explanation of why the code is correct. Simply noting that the code makes sense does not suffice as an explanation.**\n",
    "\n",
    "Overall, Homework 1 consists of two sections to facilitate practice using NumPy, Pandas, and SQL. The goal of section 1 is to practice basic NumPy skills necessary this semester. Section 2 focuses on using basic Pandas and SQL skills necessary this semester."
   ]
  },
  {
   "cell_type": "markdown",
   "id": "__Ldf99Ywj4T",
   "metadata": {
    "id": "__Ldf99Ywj4T"
   },
   "source": [
    "**NetID**:\n"
   ]
  },
  {
   "cell_type": "markdown",
   "id": "Xv_-zmwyJExg",
   "metadata": {
    "id": "Xv_-zmwyJExg"
   },
   "source": [
    "## Problem 0\n",
    "Do not move or modify this cell, we use it for automated homework analysis.\n",
    "\n",
    "**This problem is for you to use to cite your sources.**\n",
    "\n",
    "You will update this problem over the course of the homework. Describe problems, error messages, and bugs you encountered, and how you fixed or addressed them. List URLs for any online resources (like Stack Overflow) you found useful and mention fellow students, TAs, or other people who helped you. If you use ChatGPT or other AI, you must include proof of the prompt you used, as well as an explanation of why the resulting code is correct. If you do not appropriately fill out Problem 0, you will receive 0 points on the entire homework assignment.\n"
   ]
  },
  {
   "cell_type": "markdown",
   "id": "tv1sw6jpJIno",
   "metadata": {
    "id": "tv1sw6jpJIno"
   },
   "source": [
    "**ADD YOUR SOURCES HERE**\n",
    "\n",
    "---"
   ]
  },
  {
   "cell_type": "markdown",
   "id": "n49uKjGyTmFz",
   "metadata": {
    "id": "n49uKjGyTmFz"
   },
   "source": [
    "# Section 0: Import Packages\n"
   ]
  },
  {
   "cell_type": "markdown",
   "id": "2L99aeioAQee",
   "metadata": {
    "id": "2L99aeioAQee"
   },
   "source": [
    "[NumPy](https://numpy.org/) is a commonly used Python package for working with data. Below, we will practice using arrays and indexing."
   ]
  },
  {
   "cell_type": "markdown",
   "id": "66430c0a",
   "metadata": {
    "id": "66430c0a"
   },
   "source": [
    "Whenever you use NumPy, you first need to import it with the following line of code.\n",
    "\n",
    "Run the following block of code by pressing the `shift` and `enter` keys simultaneously. This is the general keyboard shortcut for running a block of code in a notebook like this."
   ]
  },
  {
   "cell_type": "code",
   "execution_count": null,
   "id": "fa0c4dcf",
   "metadata": {
    "id": "fa0c4dcf"
   },
   "outputs": [],
   "source": [
    "import numpy as np"
   ]
  },
  {
   "cell_type": "markdown",
   "id": "hXLyFpnhAHZ2",
   "metadata": {
    "id": "hXLyFpnhAHZ2"
   },
   "source": [
    "Whenever you use pandas, you first need to import it with the following line of code. We'll also be using SQL via the duckdb package; you can see more documentation [*here*](https://duckdb.org/docs/guides/python/execute_sql). Make sure you can also import duckdb:"
   ]
  },
  {
   "cell_type": "code",
   "execution_count": null,
   "id": "3SZFREsJAGy-",
   "metadata": {
    "id": "3SZFREsJAGy-"
   },
   "outputs": [],
   "source": [
    "import pandas as pd\n",
    "import duckdb"
   ]
  },
  {
   "cell_type": "markdown",
   "id": "vEJvKKNKAfYn",
   "metadata": {
    "id": "vEJvKKNKAfYn"
   },
   "source": [
    "At the beginning of class, we told you about DataFrames. They have named columns and one datatype per column. The [pandas](https://pandas.pydata.org/) library is our main support for DataFrames in python. This homework will teach you standard operations on DataFrames with pandas and how they compare to SQL.\n",
    "\n",
    "*Note:* Remember that the order in which you run cells matters! If you overwrite the dataframe ```df``` and then try to run an earlier cell, you may get errors. One way to make sure you're not breaking things is to clear outputs of all cells and then Run All from the beginning.\n",
    "\n",
    "*Note:* In a Jupyter notebook like this, the value in the last line of a code cell will be printed, even without a `print()` statement. We have you use `print()` statements in every exercise because it will allow you to print multiple values from a cell when you need to.\n",
    "\n",
    "The exercises are structured as such: We may provide some given code (such as initializing arrays) that you will need to execute. Then, we will list out a series of exercises to complete. These are followed with a blank code block for you to fill in with your code for each exercise. Finally, we will provide the expected outputs so you can check that your code has returned the correct answer."
   ]
  },
  {
   "cell_type": "markdown",
   "id": "9iEQJuSuo4XB",
   "metadata": {
    "id": "9iEQJuSuo4XB"
   },
   "source": [
    "# Section 1: NumPy Skills\n",
    "\n"
   ]
  },
  {
   "cell_type": "markdown",
   "id": "e55e781a",
   "metadata": {
    "id": "e55e781a"
   },
   "source": [
    "## A. NumPy Arrays (15 points)\n",
    "\n",
    "The basic datatype in NumPy is an *array*, also called an *ndarray*. You can think of an array as a list of numbers. A basic way to create an array is to pass a Python list to the [`np.array()` function](https://numpy.org/doc/stable/reference/generated/numpy.array.html)."
   ]
  },
  {
   "cell_type": "markdown",
   "id": "ijun2jmGEeIS",
   "metadata": {
    "id": "ijun2jmGEeIS"
   },
   "source": [
    "### Goal: Print an array and access the number of dimensions of an array.\n",
    "\n",
    "Python's `print()` function displays the value of a variable.\n",
    "\n",
    "Arrays have *axes*, also called *dimensions*. A Python list has one dimension; you can specify an element of a list with one index number. A matrix has two dimensions because in order to specify an element of a matrix, you need two numbers. The numbers specify the row and column.\n"
   ]
  },
  {
   "cell_type": "code",
   "execution_count": null,
   "id": "7saz1lM2CeTz",
   "metadata": {
    "id": "7saz1lM2CeTz"
   },
   "outputs": [],
   "source": [
    "# Exercises A1 - A6 Given code\n",
    "A = np.array([0, 1, 2, 3, 4, 5, 6, 7, 8])\n",
    "B = np.array([[0, 1, 2, 3, 4, 5, 6, 7, 8]])\n",
    "C = np.array([[0],\n",
    "              [1],\n",
    "              [2],\n",
    "              [3],\n",
    "              [4],\n",
    "              [5],\n",
    "              [6],\n",
    "              [7],\n",
    "              [8]])\n",
    "D = np.array([[ 0,  1,  2,  3,  4,  5,  6,  7, 8],\n",
    "              [ 9, 10, 11, 12, 13, 14, 15, 16, 17]])"
   ]
  },
  {
   "cell_type": "markdown",
   "id": "hMoRAKbaDNep",
   "metadata": {
    "id": "hMoRAKbaDNep"
   },
   "source": [
    "<span style=\"color:blue\">**Exercise A1.**</span> Print array A\n",
    "\n",
    "<span style=\"color:blue\">**Exercise A2.**</span> Print array B\n",
    "\n",
    "<span style=\"color:blue\">**Exercise A3.**</span> Print array C\n",
    "\n",
    "<span style=\"color:blue\">**Exercise A4.**</span> Print the number of dimensions of array A using the array's [`.ndim` attribute](https://numpy.org/doc/stable/reference/generated/numpy.ndarray.ndim.html).\n",
    "\n",
    "<span style=\"color:blue\">**Exercise A5.**</span> Print the number of dimensions of array B.\n",
    "\n",
    "<span style=\"color:blue\">**Exercise A6.**</span> Print the number of dimensions of array D.\n",
    "\n",
    "<span style=\"color:blue\">**Exercise A7.**</span> Use the [`np.array()` function](https://numpy.org/doc/stable/reference/generated/numpy.array.html#numpy.array) to create any array with four axes/dimensions. Print the number of dimensions of the array.\n"
   ]
  },
  {
   "cell_type": "code",
   "execution_count": null,
   "id": "OqukQ_L6Mvdy",
   "metadata": {
    "id": "OqukQ_L6Mvdy"
   },
   "outputs": [],
   "source": [
    "# A1: your code here\n",
    "\n",
    "# A2: your code here\n",
    "\n",
    "# A3: your code here\n",
    "\n",
    "# A4: your code here\n",
    "\n",
    "# A5: your code here\n",
    "\n",
    "# A6: your code here\n",
    "\n",
    "# A7: your code here\n"
   ]
  },
  {
   "cell_type": "markdown",
   "id": "ekaxEzfkQH46",
   "metadata": {
    "id": "ekaxEzfkQH46"
   },
   "source": [
    "**Expected A1-A7 Output**\n",
    "```\n",
    "[0 1 2 3 4 5 6 7 8]\n",
    "[[0 1 2 3 4 5 6 7 8]]\n",
    "[[0]\n",
    " [1]\n",
    " [2]\n",
    " [3]\n",
    " [4]\n",
    " [5]\n",
    " [6]\n",
    " [7]\n",
    " [8]]\n",
    "1\n",
    "2\n",
    "2\n",
    "4\n",
    "```"
   ]
  },
  {
   "cell_type": "markdown",
   "id": "31602f7a",
   "metadata": {
    "id": "31602f7a"
   },
   "source": [
    "----\n",
    "### Goal: Get the shape of an array.\n",
    "\n",
    "An array's *shape* is a tuple representing the size of each dimension of an array. For a 2d array, the elements of the tuple correspond to height and width.\n"
   ]
  },
  {
   "cell_type": "code",
   "execution_count": null,
   "id": "SpiiH7ssGS46",
   "metadata": {
    "id": "SpiiH7ssGS46"
   },
   "outputs": [],
   "source": [
    "# Exercise A12 Given code\n",
    "E = np.array([[0, 1, 2],\n",
    "              [3, 4, 5],\n",
    "              [6, 7, 8]])"
   ]
  },
  {
   "cell_type": "markdown",
   "id": "8c5f0b44",
   "metadata": {
    "id": "8c5f0b44"
   },
   "source": [
    "<span style=\"color:blue\">**Exercise A8.**</span> Print the shape of array D using the array's [`.shape` attribute](https://numpy.org/doc/stable/reference/generated/numpy.shape.html).\n",
    "\n",
    "<span style=\"color:blue\">**Exercise A9.**</span> Print the shape of array A\n",
    "\n",
    "<span style=\"color:blue\">**Exercise A10.**</span> Print the shape of array B.\n",
    "\n",
    "<span style=\"color:blue\">**Exercise A11.**</span> Print the shape of array C.\n",
    "\n",
    "<span style=\"color:blue\">**Exercise A12.**</span> Print the shape of array E.\n"
   ]
  },
  {
   "cell_type": "code",
   "execution_count": null,
   "id": "PlMHUN7jR8p9",
   "metadata": {
    "id": "PlMHUN7jR8p9"
   },
   "outputs": [],
   "source": [
    "# A8: your code here\n",
    "\n",
    "# A9: your code here\n",
    "\n",
    "# A10: your code here\n",
    "\n",
    "# A11: your code here\n",
    "\n",
    "# A12: your code here\n"
   ]
  },
  {
   "cell_type": "markdown",
   "id": "d570998e",
   "metadata": {
    "id": "d570998e"
   },
   "source": [
    "**Expected A8-A12 Output**\n",
    "\n",
    "```\n",
    "(2, 9)\n",
    "(9,)\n",
    "(1, 9)\n",
    "(9, 1)\n",
    "(3, 3)\n",
    "```"
   ]
  },
  {
   "cell_type": "markdown",
   "id": "df16befc",
   "metadata": {
    "id": "df16befc"
   },
   "source": [
    "----\n",
    "### Goal: Reshape an array and get the number of elements in an array.\n",
    "\n",
    "A NumPy array's [`.reshape()` method](https://numpy.org/doc/stable/reference/generated/numpy.ndarray.reshape.html#numpy.ndarray.reshape) takes the values in the array and rearranges them. The part that takes some getting used to is which values go in which new positions.\n",
    "\n",
    "The [`np.arange()` function](https://numpy.org/doc/stable/reference/generated/numpy.arange.html) creates arrays with integers in increasing order. For example, the array `[0 1 2 3 4 5 6 7 8]` from the previous exercises can also be generated by the line `np.arange(9)`.\n"
   ]
  },
  {
   "cell_type": "code",
   "execution_count": null,
   "id": "Eh9GdlJmGh7t",
   "metadata": {
    "id": "Eh9GdlJmGh7t"
   },
   "outputs": [],
   "source": [
    "# Exercise A13 Given code\n",
    "F = np.arange(18)"
   ]
  },
  {
   "cell_type": "markdown",
   "id": "a22d07ee-f56b-4a8a-90f4-78614bef1d85",
   "metadata": {
    "id": "a22d07ee-f56b-4a8a-90f4-78614bef1d85"
   },
   "source": [
    "<span style=\"color:blue\">**Exercise A13.**</span> Modify array F to have the same elements in two rows of equal size (equivalent to previously-defined array D). Print the resulting array.\n",
    "\n",
    "<span style=\"color:blue\">**Exercise A14.**</span> Recreate array B using array A and the reshape function. Print the resulting array.\n",
    "\n",
    "<span style=\"color:blue\">**Exercise A15.**</span> Recreate array E using array A and the reshape function. Print the resulting array.\n",
    "\n",
    "<span style=\"color:blue\">**Exercise A16.**</span> Use an array's [`.size` attribute](https://numpy.org/doc/stable/reference/generated/numpy.ndarray.size.html) to print the number of elements in each of arrays A, B, E."
   ]
  },
  {
   "cell_type": "code",
   "execution_count": null,
   "id": "52afdadd-7cf8-478a-82c8-fdb158d49609",
   "metadata": {
    "id": "52afdadd-7cf8-478a-82c8-fdb158d49609"
   },
   "outputs": [],
   "source": [
    "# A13: your code here\n",
    "\n",
    "# A14: your code here\n",
    "\n",
    "# A15: your code here\n",
    "\n",
    "# A16: your code here\n"
   ]
  },
  {
   "cell_type": "markdown",
   "id": "9N546cZlGxsG",
   "metadata": {
    "id": "9N546cZlGxsG"
   },
   "source": [
    "**Expected A13 - A16 Output**:\n",
    "```\n",
    "[[ 0  1  2  3  4  5  6  7 8]\n",
    " [ 9 10 11 12 13 14 15 16 17]]\n",
    "[[0 1 2 3 4 5 6 7 8]]\n",
    "[[0 1 2]\n",
    " [3 4 5]\n",
    " [6 7 8]]\n",
    "9\n",
    "9\n",
    "9\n",
    "```"
   ]
  },
  {
   "cell_type": "markdown",
   "id": "cd4f1289",
   "metadata": {
    "id": "cd4f1289"
   },
   "source": [
    "----\n",
    "### Goal: Get the Python type of NumPy arrays, and get the type of the elements held in a NumPy array.\n",
    "\n",
    "You can get the type of a variable in Python with the built-in `type()` function. NumPy arrays are a single type that can hold elements of another type. For example, you could have an array of integers or an array of strings."
   ]
  },
  {
   "cell_type": "code",
   "execution_count": null,
   "id": "VAYOdftRHu8M",
   "metadata": {
    "id": "VAYOdftRHu8M"
   },
   "outputs": [],
   "source": [
    "# Exercise A19 - A20 Given code\n",
    "G = np.array(['maple', 'london plane', 'beech', 'white oak'])"
   ]
  },
  {
   "cell_type": "markdown",
   "id": "4f1fd5b5",
   "metadata": {
    "id": "4f1fd5b5"
   },
   "source": [
    "<span style=\"color:blue\">**Exercise A17.**</span> Print the Python type of array E by using Python's built-in `type()` function.\n",
    "\n",
    "<span style=\"color:blue\">**Exercise A18.**</span> Print the NumPy array's [`dtype` attribute](https://numpy.org/doc/stable/reference/generated/numpy.ndarray.dtype.html) in order to see the type of elements that array E holds. (Older operating systems may return `int32`.)\n",
    "\n",
    "<span style=\"color:blue\">**Exercise A19.**</span> Print the Python type of array G.\n",
    "\n",
    "<span style=\"color:blue\">**Exercise A20.**</span> Print the NumPy array's [`dtype` attribute](https://numpy.org/doc/stable/reference/generated/numpy.ndarray.dtype.html) of array G."
   ]
  },
  {
   "cell_type": "code",
   "execution_count": null,
   "id": "YkhSR_D7SeRv",
   "metadata": {
    "id": "YkhSR_D7SeRv"
   },
   "outputs": [],
   "source": [
    "# A17: your code here\n",
    "\n",
    "# A18: your code here\n",
    "\n",
    "# A19: your code here\n",
    "\n",
    "# A20: your code here\n"
   ]
  },
  {
   "cell_type": "markdown",
   "id": "64641550",
   "metadata": {
    "id": "64641550"
   },
   "source": [
    "**Expected A17 - A20 Output**\n",
    "```\n",
    "<class 'numpy.ndarray'>\n",
    "int64\n",
    "<class 'numpy.ndarray'>\n",
    "<U12\n",
    "```\n",
    "\n",
    "(The last one is a string datatype, as described [here](https://numpy.org/doc/stable/reference/arrays.dtypes.html))"
   ]
  },
  {
   "cell_type": "markdown",
   "id": "6bc1d571",
   "metadata": {
    "id": "6bc1d571"
   },
   "source": [
    "----\n",
    "### Goal: Create an array. Understand the difference between `np.empty()` and `np.zeros()`.\n",
    "\n",
    "The [`np.empty()` function](https://numpy.org/doc/stable/reference/generated/numpy.empty.html) creates an array with no guarantees on the values of elements inside it. If you want to use an array created in this way, you need to explicitly set the values.\n",
    "\n",
    "The [`np.zeros()` function](https://numpy.org/doc/stable/reference/generated/numpy.zeros.html) creates an array where every entry is 0. This is useful when you want to immediately use the values in the array, or if the default value of an entry should be 0."
   ]
  },
  {
   "cell_type": "code",
   "execution_count": null,
   "id": "QKTKEnf8IWtj",
   "metadata": {
    "id": "QKTKEnf8IWtj"
   },
   "outputs": [],
   "source": [
    "# Exercises A24 - A25 Given code\n",
    "l = [14, 12, 10, 8, 6, 4, 2, 0]\n",
    "\n",
    "list1 = [10, 8, 6, 4, 2, 0]\n",
    "list2 = [10.5, 8.5, 6.5, 4.5, 2.5, 0.5]\n",
    "list3 = [11, 9, 7, 5, 3, 1]"
   ]
  },
  {
   "cell_type": "markdown",
   "id": "17547038",
   "metadata": {
    "id": "17547038"
   },
   "source": [
    "<span style=\"color:blue\">**Exercise A21.**</span> Create a 2x3 array using the [`np.empty()` function](https://numpy.org/doc/stable/reference/generated/numpy.empty.html). Print the array.\n",
    "\n",
    "<span style=\"color:blue\">**Exercise A22.**</span> Create a 4x3 array using the [`np.zeros()` function](https://numpy.org/doc/stable/reference/generated/numpy.zeros.html). Print the array.\n",
    "\n",
    "<span style=\"color:blue\">**Exercise A23.**</span> Evenly spaced numbers are often useful for plotting. Create a 1d array of 12 equally spaced numbers between 0 and 1 (inclusive) using the [`np.linspace()` function](https://numpy.org/doc/stable/reference/generated/numpy.linspace.html). Print the array.\n",
    "\n",
    "<span style=\"color:blue\">**Exercise A24.**</span> Create a NumPy array from list l using the [`np.array()` function](https://numpy.org/doc/stable/reference/generated/numpy.array.html). Reshape the array to be 4x2. Print the array.\n",
    "\n",
    "<span style=\"color:blue\">**Exercise A25.**</span> Create a 3x6 NumPy array from the lists 1-3, where the elements of `list1` are in the first row, the elements of `list2` are in the second row and the elements of `list3` are in the third row. Print the array.\n",
    "\n"
   ]
  },
  {
   "cell_type": "code",
   "execution_count": null,
   "id": "JpW5E0sKTFiJ",
   "metadata": {
    "id": "JpW5E0sKTFiJ"
   },
   "outputs": [],
   "source": [
    "# A21: your code here\n",
    "\n",
    "# A22: your code here\n",
    "\n",
    "# A23: your code here\n",
    "\n",
    "# A24: your code here\n",
    "\n",
    "# A25: your code here\n"
   ]
  },
  {
   "cell_type": "markdown",
   "id": "648a4029",
   "metadata": {
    "id": "648a4029"
   },
   "source": [
    "**Expected A21 - A25 Output**\n",
    "\n",
    "*Note for A21: This is just a representative output. Due to the nature of `np.empty()`, you may have a slightly different output. This is expected.*\n",
    "\n",
    "```\n",
    "[[0.e+000 2.e-323 0.e+000]\n",
    " [0.e+000 0.e+000 0.e+000]]\n",
    "[[0. 0. 0.]\n",
    " [0. 0. 0.]\n",
    " [0. 0. 0.]\n",
    " [0. 0. 0.]]\n",
    "[0.         0.09090909 0.18181818 0.27272727 0.36363636 0.45454545\n",
    " 0.54545455 0.63636364 0.72727273 0.81818182 0.90909091 1.        ]\n",
    "[[14 12]\n",
    " [10  8]\n",
    " [ 6  4]\n",
    " [ 2  0]]\n",
    "[[10.   8.   6.   4.   2.   0. ]\n",
    " [10.5  8.5  6.5  4.5  2.5  0.5]\n",
    " [11.   9.   7.   5.   3.   1. ]]\n",
    "\n",
    "```\n"
   ]
  },
  {
   "cell_type": "markdown",
   "id": "be77e93f",
   "metadata": {
    "id": "be77e93f"
   },
   "source": [
    "## B. Indexing  (15 points)"
   ]
  },
  {
   "cell_type": "markdown",
   "id": "16654c62",
   "metadata": {
    "id": "16654c62"
   },
   "source": [
    "### Goal: Get and set the value of a single entry in an array.\n",
    "\n",
    "\n",
    "In order to get an element from an array, you *index* the array with the element's position along each dimension/axis. The positions are numbered starting at 0.\n",
    "\n",
    "You can use square bracket syntax like with a Python list. Different dimensions are separated with commas.\n",
    "\n",
    "You might find the [NumPy reference for indexing](https://numpy.org/doc/stable/user/basics.indexing.html#basics-indexing) helpful.\n",
    "\n",
    "You can set the value of an entry in an array using the same bracket syntax used for indexing.\n",
    "For example, `A[i, j] = 1` sets the entry in row `i`, column `j` to 1."
   ]
  },
  {
   "cell_type": "code",
   "execution_count": null,
   "id": "2xvJkXLBRNE7",
   "metadata": {
    "id": "2xvJkXLBRNE7"
   },
   "outputs": [],
   "source": [
    "# Exercises B1 - B6 Given code\n",
    "H = np.arange(24).reshape((3, 8))"
   ]
  },
  {
   "cell_type": "markdown",
   "id": "8d7b9bd0",
   "metadata": {
    "id": "8d7b9bd0"
   },
   "source": [
    "<span style=\"color:blue\">**Exercise B1.**</span> Print the top-left entry in array H, which is the entry in the first row, first column.\n",
    "\n",
    "<span style=\"color:blue\">**Exercise B2.**</span> Print the entry in the first row, fifth column.\n",
    "\n",
    "<span style=\"color:blue\">**Exercise B3.**</span> Print the entry in the second row, fourth column.\n",
    "\n",
    "<span style=\"color:blue\">**Exercise B4.**</span> Print the entry `22` using indexing.\n",
    "\n",
    "<span style=\"color:blue\">**Exercise B5.**</span> Use negative indexing to print the bottom right element of array H, which is the entry in the last row, last column.\n",
    "\n",
    "<span style=\"color:blue\">**Exercise B6.**</span> Set the entry in the third row, fourth column to 200. Print the array.\n",
    "\n"
   ]
  },
  {
   "cell_type": "code",
   "execution_count": null,
   "id": "tDPsVKumTgE4",
   "metadata": {
    "id": "tDPsVKumTgE4"
   },
   "outputs": [],
   "source": [
    "# B1: your code here\n",
    "\n",
    "# B2: your code here\n",
    "\n",
    "# B3: your code here\n",
    "\n",
    "# B4: your code here\n",
    "\n",
    "# B5: your code here\n",
    "\n",
    "# B6: your code here\n"
   ]
  },
  {
   "cell_type": "markdown",
   "id": "ae69c4ac",
   "metadata": {
    "id": "ae69c4ac"
   },
   "source": [
    "**Expected B1 - B6 Output**:\n",
    "\n",
    "```\n",
    "0\n",
    "4\n",
    "11\n",
    "22\n",
    "23\n",
    "[[  0   1   2   3   4   5   6   7]\n",
    " [  8   9  10  11  12  13  14  15]\n",
    " [ 16  17  18 200  20  21  22  23]]\n",
    "```\n"
   ]
  },
  {
   "cell_type": "markdown",
   "id": "CC9ib48hVq5H",
   "metadata": {
    "id": "CC9ib48hVq5H"
   },
   "source": [
    "--------\n",
    "\n",
    "### Goal: Use slicing to access parts of an array.\n",
    "\n",
    "*Slicing* allows you to access multiple elements of an array at the same time. A slice is defined using a colon. For example:\n",
    "- `A[:, 1]` accesses all of the entries in column 1 of `A`.\n",
    "- `A[0, :]` accesses all of the entries in row 0 of `A`.\n",
    "- `A[:, 1:3]` accesses all of the entries in columns 1 (inclusive) to 3 (not inclusive) of `A` (i.e. columns 1 and 2).\n",
    "\n",
    "Syntax is described [here](https://numpy.org/doc/stable/user/basics.indexing.html#slicing-and-striding)."
   ]
  },
  {
   "cell_type": "code",
   "execution_count": null,
   "id": "pSqYhB0AVpDa",
   "metadata": {
    "id": "pSqYhB0AVpDa"
   },
   "outputs": [],
   "source": [
    "# Exercise B7 - B10 Given code\n",
    "M = np.arange(50)\n",
    "H = np.arange(24).reshape((3, 8))"
   ]
  },
  {
   "cell_type": "markdown",
   "id": "081e9998",
   "metadata": {
    "id": "081e9998"
   },
   "source": [
    "<span style=\"color:blue\">**Exercise B7.**</span> Use slicing to print the first 10 elements of array M.\n",
    "\n",
    "<span style=\"color:blue\">**Exercise B8.**</span> Use slicing to print the thirty elements of array M from index 15 to index 35 (inclusive).\n",
    "\n",
    "<span style=\"color:blue\">**Exercise B9.**</span> Use negative indexing and slicing to print the last five elements of array M.\n",
    "\n",
    "<span style=\"color:blue\">**Exercise B10.**</span> Use slicing and negative indexing to print the last column of array H.\n"
   ]
  },
  {
   "cell_type": "code",
   "execution_count": null,
   "id": "uhep5Re4UKxx",
   "metadata": {
    "id": "uhep5Re4UKxx"
   },
   "outputs": [],
   "source": [
    "# B7: your code here\n",
    "\n",
    "# B8: your code here\n",
    "\n",
    "# B9: your code here\n",
    "\n",
    "# B10: your code here\n"
   ]
  },
  {
   "cell_type": "markdown",
   "id": "d38041c2",
   "metadata": {
    "id": "d38041c2"
   },
   "source": [
    "\n",
    "**Expected B7 - B10 Output**:\n",
    "\n",
    "```\n",
    "[0 1 2 3 4 5 6 7 8 9]\n",
    "[15 16 17 18 19 20 21 22 23 24 25 26 27 28 29 30 31 32 33 34 35]\n",
    "[45 46 47 48 49]\n",
    "[ 7 15 23]\n",
    "```\n"
   ]
  },
  {
   "cell_type": "markdown",
   "id": "bc3bf382-8d4d-45f0-8284-a4c236301b2f",
   "metadata": {
    "id": "bc3bf382-8d4d-45f0-8284-a4c236301b2f"
   },
   "source": [
    "----\n",
    "### Goal: Get and set the value of an entire row or column of a 2D array"
   ]
  },
  {
   "cell_type": "code",
   "execution_count": null,
   "id": "blMCwCfjSlKd",
   "metadata": {
    "id": "blMCwCfjSlKd"
   },
   "outputs": [],
   "source": [
    "# B11 - B14 Given code\n",
    "H = np.arange(24).reshape((3, 8))"
   ]
  },
  {
   "cell_type": "markdown",
   "id": "53f3748e-8626-4716-85a0-0caebf09e8ab",
   "metadata": {
    "id": "53f3748e-8626-4716-85a0-0caebf09e8ab"
   },
   "source": [
    "<span style=\"color:blue\">**Exercise B11.**</span> Print all of the entries in the fourth column of H.\n",
    "\n",
    "<span style=\"color:blue\">**Exercise B12.**</span> Print all of the entries in the second row of H.\n",
    "\n",
    "<span style=\"color:blue\">**Exercise B13.**</span> Set all of the entries in the first colum of H to 1. Print the array.\n",
    "\n",
    "<span style=\"color:blue\">**Exercise B14.**</span> Create a 2x2 array that contains the four entries located in a) the second and third rows and b) the last two columns. Print this array.\n"
   ]
  },
  {
   "cell_type": "code",
   "execution_count": null,
   "id": "552bf061-3cca-4bcc-aeb0-b3a6d16409d3",
   "metadata": {
    "id": "552bf061-3cca-4bcc-aeb0-b3a6d16409d3"
   },
   "outputs": [],
   "source": [
    "# B11: your code here\n",
    "\n",
    "# B12: your code here\n",
    "\n",
    "# B13: your code here\n",
    "\n",
    "# B14: your code here\n"
   ]
  },
  {
   "cell_type": "markdown",
   "id": "863e7dcf-65c2-4d90-89df-e1c349b91911",
   "metadata": {
    "id": "863e7dcf-65c2-4d90-89df-e1c349b91911"
   },
   "source": [
    "**Expected B11 - B14 Output**:\n",
    "\n",
    "```\n",
    "[ 3 11 19]\n",
    "[ 8  9 10 11 12 13 14 15]\n",
    "[[ 1  1  2  3  4  5  6  7]\n",
    " [ 1  9 10 11 12 13 14 15]\n",
    " [ 1 17 18 19 20 21 22 23]]\n",
    "[[14 15]\n",
    " [22 23]]\n",
    "```"
   ]
  },
  {
   "cell_type": "markdown",
   "id": "5c09c724",
   "metadata": {
    "id": "5c09c724"
   },
   "source": [
    "---\n",
    "### Goal: Use slicing to print a subset of a large array.\n",
    "\n",
    "Sometimes using the built-in Python `print()` function doesn't print all the values of a large array."
   ]
  },
  {
   "cell_type": "code",
   "execution_count": null,
   "id": "mPHz6d9gXAVP",
   "metadata": {
    "id": "mPHz6d9gXAVP"
   },
   "outputs": [],
   "source": [
    "# B15 Given code\n",
    "N = np.arange(10000).reshape((100,100))"
   ]
  },
  {
   "cell_type": "markdown",
   "id": "35caa582",
   "metadata": {
    "id": "35caa582"
   },
   "source": [
    "<span style=\"color:blue\">**Exercise B15.**</span> Use slicing to print the full tenth column of the array.\n",
    "\n"
   ]
  },
  {
   "cell_type": "code",
   "execution_count": null,
   "id": "4aMZvnlYUPQ2",
   "metadata": {
    "id": "4aMZvnlYUPQ2"
   },
   "outputs": [],
   "source": [
    "# B15: your code here\n"
   ]
  },
  {
   "cell_type": "markdown",
   "id": "s8y-fE8jXEAt",
   "metadata": {
    "id": "s8y-fE8jXEAt"
   },
   "source": [
    "**Expected B15 Output**:\n",
    "\n",
    "```\n",
    "[   9  109  209  309  409  509  609  709  809  909 1009 1109 1209 1309\n",
    " 1409 1509 1609 1709 1809 1909 2009 2109 2209 2309 2409 2509 2609 2709\n",
    " 2809 2909 3009 3109 3209 3309 3409 3509 3609 3709 3809 3909 4009 4109\n",
    " 4209 4309 4409 4509 4609 4709 4809 4909 5009 5109 5209 5309 5409 5509\n",
    " 5609 5709 5809 5909 6009 6109 6209 6309 6409 6509 6609 6709 6809 6909\n",
    " 7009 7109 7209 7309 7409 7509 7609 7709 7809 7909 8009 8109 8209 8309\n",
    " 8409 8509 8609 8709 8809 8909 9009 9109 9209 9309 9409 9509 9609 9709\n",
    " 9809 9909]\n",
    "```"
   ]
  },
  {
   "cell_type": "markdown",
   "id": "ac8aa630",
   "metadata": {
    "id": "ac8aa630"
   },
   "source": [
    "----\n",
    "### Goal: use boolean indexing to access specific elements\n",
    "\n",
    "*Boolean indexing*, also called *logical indexing*, allows you to select elements of an array that meet certain criteria. There is a general pattern of starting with an array, creating a boolean array where `True` corresponds to elements that satisfy a predicate, and then passing this boolean array as an index back to the original array to select those elements.\n",
    "\n",
    "The NumPy indexing reference contains a [section on boolean indexing](https://numpy.org/doc/stable/user/basics.indexing.html#boolean-array-indexing). The online resource [Python Like You Mean It](https://www.pythonlikeyoumeanit.com/index.html) also has a helpful section about [boolean indexing](https://www.pythonlikeyoumeanit.com/Module3_IntroducingNumpy/AdvancedIndexing.html)."
   ]
  },
  {
   "cell_type": "code",
   "execution_count": null,
   "id": "WGRurembXy9g",
   "metadata": {
    "id": "WGRurembXy9g"
   },
   "outputs": [],
   "source": [
    "# B16 - B18 Given code\n",
    "P = np.arange(36).reshape((6, 6))"
   ]
  },
  {
   "cell_type": "markdown",
   "id": "0fd82077",
   "metadata": {
    "id": "0fd82077"
   },
   "source": [
    "\n",
    "<span style=\"color:blue\">**Exercise B16.**</span> Create an 6x6 array called `P_bool` which contains `True` if the corresponding entry in `P` is odd and `False` otherwise. More concretely: a) `P_bool[i, j] = True` if the integer in `P[i, j]` is odd, and b) `P_bool[i, j] = False` if the integer in `P[i, j]` is even. Print `P_bool` once you have created it.\n",
    "\n",
    "*Hint:* the modulo operator in Python yields the remainder when dividing. For example, `4 % 2` yields 0 because 4 is even, and `5 % 2` yields 1 because 5 is odd. The expression `4 % 2 == 0` would therefore yield `True`, while `5 % 2 == 0` would yield `False`.\n",
    "\n",
    "<span style=\"color:blue\">**Exercise B17.**</span> Print all the odd entries of the array P using one line of logical indexing.\n",
    "\n",
    "<span style=\"color:blue\">**Exercise B18.**</span> Set all the even entries of the array P to 1 using one line of logical indexing. Print the resulting array.\n",
    "\n",
    "\n",
    "\n"
   ]
  },
  {
   "cell_type": "code",
   "execution_count": null,
   "id": "hHzFtqsrUVaV",
   "metadata": {
    "id": "hHzFtqsrUVaV"
   },
   "outputs": [],
   "source": [
    "# B16: your code here\n",
    "\n",
    "# B17: your code here\n",
    "\n",
    "# B18: your code here\n"
   ]
  },
  {
   "cell_type": "markdown",
   "id": "71d3c9a8",
   "metadata": {
    "id": "71d3c9a8"
   },
   "source": [
    "**Expected B16 - B18 Output**:\n",
    "```\n",
    "[[False  True False  True False  True]\n",
    " [False  True False  True False  True]\n",
    " [False  True False  True False  True]\n",
    " [False  True False  True False  True]\n",
    " [False  True False  True False  True]\n",
    " [False  True False  True False  True]]\n",
    "[ 1  3  5  7  9 11 13 15 17 19 21 23 25 27 29 31 33 35]\n",
    "[[ 1  1  1  3  1  5]\n",
    " [ 1  7  1  9  1 11]\n",
    " [ 1 13  1 15  1 17]\n",
    " [ 1 19  1 21  1 23]\n",
    " [ 1 25  1 27  1 29]\n",
    " [ 1 31  1 33  1 35]]\n",
    "```\n"
   ]
  },
  {
   "cell_type": "markdown",
   "id": "tIyWoIcxv2pS",
   "metadata": {
    "id": "tIyWoIcxv2pS"
   },
   "source": [
    "--------\n",
    "### Goal: manipulate arrays"
   ]
  },
  {
   "cell_type": "code",
   "execution_count": null,
   "id": "d9xCY4LJYT6z",
   "metadata": {
    "id": "d9xCY4LJYT6z"
   },
   "outputs": [],
   "source": [
    "# B19 Given code\n",
    "P = np.arange(36).reshape((6, 6))"
   ]
  },
  {
   "cell_type": "markdown",
   "id": "d0cdc1bf",
   "metadata": {
    "id": "d0cdc1bf"
   },
   "source": [
    "<span style=\"color:blue\">**Exercise B19.**</span> Set all the entries divisible by 3 to decreasing integers starting from 200. The first divisible-by-3 number should become 200, the second should become 199, and so on, with the final divisible-by-3 number becoming 189. Print the resulting array.\n"
   ]
  },
  {
   "cell_type": "code",
   "execution_count": null,
   "id": "0fe89e24-e798-45a7-9763-6a66fbf26755",
   "metadata": {
    "id": "0fe89e24-e798-45a7-9763-6a66fbf26755"
   },
   "outputs": [],
   "source": [
    "# B19: your code here\n"
   ]
  },
  {
   "cell_type": "markdown",
   "id": "ube19c_qYb5r",
   "metadata": {
    "id": "ube19c_qYb5r"
   },
   "source": [
    "**Expected B19 Output**:\n",
    "```\n",
    "[[200   1   2 199   4   5]\n",
    " [198   7   8 197  10  11]\n",
    " [196  13  14 195  16  17]\n",
    " [194  19  20 193  22  23]\n",
    " [192  25  26 191  28  29]\n",
    " [190  31  32 189  34  35]]\n",
    " ```\n",
    "\n",
    "---"
   ]
  },
  {
   "cell_type": "code",
   "execution_count": null,
   "id": "1-ccDO6OYwhM",
   "metadata": {
    "id": "1-ccDO6OYwhM"
   },
   "outputs": [],
   "source": [
    "# B20 Given code\n",
    "P = np.arange(36).reshape((6, 6))"
   ]
  },
  {
   "cell_type": "markdown",
   "id": "18461e8e",
   "metadata": {
    "id": "18461e8e"
   },
   "source": [
    "<span style=\"color:blue\">**Exercise B20.**</span> Add 10 to all of the even entries of the array. Print the resulting array.\n"
   ]
  },
  {
   "cell_type": "code",
   "execution_count": null,
   "id": "e21ec31b-ffd4-4be4-813a-410eb0688aec",
   "metadata": {
    "id": "e21ec31b-ffd4-4be4-813a-410eb0688aec"
   },
   "outputs": [],
   "source": [
    "# B20: your code here\n"
   ]
  },
  {
   "cell_type": "markdown",
   "id": "HYdXtebcYsUJ",
   "metadata": {
    "id": "HYdXtebcYsUJ"
   },
   "source": [
    "**Expected B20 Output**:\n",
    "```\n",
    "[[10  1 12  3 14  5]\n",
    " [16  7 18  9 20 11]\n",
    " [22 13 24 15 26 17]\n",
    " [28 19 30 21 32 23]\n",
    " [34 25 36 27 38 29]\n",
    " [40 31 42 33 44 35]]\n",
    "```"
   ]
  },
  {
   "cell_type": "markdown",
   "id": "DIAPrVx0wMMe",
   "metadata": {
    "id": "DIAPrVx0wMMe"
   },
   "source": [
    "---"
   ]
  },
  {
   "cell_type": "markdown",
   "id": "onh2IW0aJiMf",
   "metadata": {
    "id": "onh2IW0aJiMf"
   },
   "source": [
    "# Section 2: Pandas & SQL Skills\n",
    "\n"
   ]
  },
  {
   "cell_type": "markdown",
   "id": "68hlEZFXXcaA",
   "metadata": {
    "id": "68hlEZFXXcaA"
   },
   "source": [
    "We'll be using a dataset on forest fires from [*UCI*](https://archive.ics.uci.edu/dataset/162/forest+fires) called *forest-fires.csv* (please use the version of the dataset in the HW zip file provided on Canvas). We will be using pandas to load (\"read\") the dataset. Run the below code that reads the csv file into a pandas dataframe named *df*. Remember that the csv file should live in the same directory as your local copy of this ipynb for this code to run."
   ]
  },
  {
   "cell_type": "code",
   "execution_count": null,
   "id": "jMijSkNGXdHv",
   "metadata": {
    "id": "jMijSkNGXdHv"
   },
   "outputs": [],
   "source": [
    "df = pd.read_csv('forest-fires.csv')"
   ]
  },
  {
   "cell_type": "markdown",
   "id": "2w86m3l1hJZx",
   "metadata": {
    "id": "2w86m3l1hJZx"
   },
   "source": [
    "---\n",
    "## C. DataFrames (10 points)\n",
    "\n",
    "The main datatypes when using pandas are the [*Series*](https://pandas.pydata.org/docs/reference/api/pandas.Series.html) and the [*DataFrame*](https://pandas.pydata.org/docs/reference/api/pandas.DataFrame.html).\n",
    "\n",
    "A Series is essentially a wrapper for a one-dimensional NumPy array. You can perform many operations on a Series just like you would with a NumPy array. The main difference is that it has an extra label/index for accessing each element, which we will learn about later on."
   ]
  },
  {
   "cell_type": "markdown",
   "id": "ZZ2nPysahPTW",
   "metadata": {
    "id": "ZZ2nPysahPTW"
   },
   "source": [
    "### Goal: Create and operate on a pandas Series and DataFrame object.\n",
    "\n",
    "A DataFrame is a two-dimensional table of data. A DataFrame has rows and columns, where each column is a Series. Columns can have different datatypes from each other."
   ]
  },
  {
   "cell_type": "code",
   "execution_count": null,
   "id": "JnMfZ7RiZPZN",
   "metadata": {
    "id": "JnMfZ7RiZPZN"
   },
   "outputs": [],
   "source": [
    "# Exercises C1 - C3 Given code\n",
    "l = ['a', 'b', 'c', 'd', 'e', 'f', 'g']\n",
    "s = pd.Series([0, 10, 20, 30, 40])\n",
    "A = np.arange(12).reshape((6, 2))"
   ]
  },
  {
   "cell_type": "markdown",
   "id": "jDdUgOuehL--",
   "metadata": {
    "id": "jDdUgOuehL--"
   },
   "source": [
    "<span style=\"color:blue\">**Exercise C1.**</span> Convert list l to a pandas Series using the [pd.Series() function](https://pandas.pydata.org/docs/reference/api/pandas.Series.html). Print the Series. The numbers that appear in the left column are each row's label.\n",
    "\n",
    "<span style=\"color:blue\">**Exercise C2.**</span> Create a new Series object by multiplying the first Series s by 10. You can perform arithmetic directly on a Series just like we did when we used broadcasting on NumPy arrays. Print this new Series.\n",
    "\n",
    "<span style=\"color:blue\">**Exercise C3.**</span> Convert numpy array A to a pandas DataFrame with the [`pd.DataFrame()` function](https://pandas.pydata.org/docs/reference/api/pandas.DataFrame.html). Use the `columns` argument to name the first column 'x' and the second column 'y'. Use the `index` argument to name the rows 'a', 'b', 'c', 'd', 'e', and 'f'. Print the resulting DataFrame."
   ]
  },
  {
   "cell_type": "code",
   "execution_count": null,
   "id": "N4N43yCJU41q",
   "metadata": {
    "id": "N4N43yCJU41q"
   },
   "outputs": [],
   "source": [
    "# C1: your code here\n",
    "\n",
    "# C2: your code here\n",
    "\n",
    "# C3: your code here\n"
   ]
  },
  {
   "cell_type": "markdown",
   "id": "hGiH-SLjhZTC",
   "metadata": {
    "id": "hGiH-SLjhZTC"
   },
   "source": [
    "\n",
    "**Expected C1 - C3 Output**:\n",
    "\n",
    "```\n",
    "0    a\n",
    "1    b\n",
    "2    c\n",
    "3    d\n",
    "4    e\n",
    "5    f\n",
    "6    g\n",
    "dtype: object\n",
    "0     0\n",
    "1    100\n",
    "2    200\n",
    "3    300\n",
    "4    400\n",
    "dtype: int64\n",
    "    x   y\n",
    "a   0   1\n",
    "b   2   3\n",
    "c   4   5\n",
    "d   6   7\n",
    "e   8   9\n",
    "f  10  11\n",
    "```"
   ]
  },
  {
   "cell_type": "markdown",
   "id": "k4eWze8UhgdK",
   "metadata": {
    "id": "k4eWze8UhgdK"
   },
   "source": [
    "---\n",
    "### Goal: Examine a dataframe."
   ]
  },
  {
   "cell_type": "markdown",
   "id": "U2yQVs9KhhWq",
   "metadata": {
    "id": "U2yQVs9KhhWq"
   },
   "source": [
    "<span style=\"color:blue\">**Exercise C4.**</span> Use the DataFrame's [`.head()` method](https://pandas.pydata.org/docs/reference/api/pandas.DataFrame.head.html) to view the first ten rows of ```df```, the new DataFrame you generated by reading in the `forest-fires.csv` file."
   ]
  },
  {
   "cell_type": "code",
   "execution_count": null,
   "id": "avwRVaVJhU7w",
   "metadata": {
    "id": "avwRVaVJhU7w"
   },
   "outputs": [],
   "source": [
    "# C4: your code here\n"
   ]
  },
  {
   "cell_type": "markdown",
   "id": "0dW2okCGaLr_",
   "metadata": {
    "id": "0dW2okCGaLr_"
   },
   "source": [
    "**Expected C4 Output**:\n",
    "```\n",
    "   Temperature  Area\n",
    "0         18.0  0.36\n",
    "1         21.7  0.43\n",
    "2         21.9  0.47\n",
    "3         23.3  0.55\n",
    "4         21.2  0.61\n",
    "5         16.6  0.71\n",
    "6         23.8  0.77\n",
    "7         27.4  0.90\n",
    "8         13.2  0.95\n",
    "9         24.2  0.96\n",
    "```"
   ]
  },
  {
   "cell_type": "markdown",
   "id": "7_RqzCSPhj1s",
   "metadata": {
    "id": "7_RqzCSPhj1s"
   },
   "source": [
    "---\n",
    "## D. Basic indexing (10 points)"
   ]
  },
  {
   "cell_type": "markdown",
   "id": "tr2gzrHihktZ",
   "metadata": {
    "id": "tr2gzrHihktZ"
   },
   "source": [
    "### Goal: Access rows using indices, labels and slicing. Understand when to use `.iloc` vs `.loc.`\n",
    "\n",
    "Each row of a DataFrame has a label, which is like a special series that identifies each row of the DataFrame. If you don't specify a label when creating the DataFrame, the labels default to sequential integers. But DataFrames can have other labels as well, such as strings.\n",
    "\n",
    "There are two main ways of accessing rows of a DataFrame:\n",
    "- `df.iloc` accepts integer indices. For example, `df.iloc[10]` returns the row with index 10. You're familiar with this kind of indexing from NumPy arrays.\n",
    "- `df.loc` accepts labels and boolean arrays. In subsequent exercises, we'll see how `df.loc` and `df.iloc` can yield different results. **We will most often be using `df.loc` in this class.**"
   ]
  },
  {
   "cell_type": "code",
   "execution_count": null,
   "id": "CTNFY012NKv7",
   "metadata": {
    "id": "CTNFY012NKv7"
   },
   "outputs": [],
   "source": [
    "# Exercises D1 - D2 Given code\n",
    "cities_df = pd.DataFrame({'City': ['Ithaca', 'New York', 'Boston'], 'Population': [32108, 8804190, 675647]})\n",
    "populations_df = pd.DataFrame({'Population': [32108, 8804190, 675647]}, index=['Ithaca', 'New York', 'Boston'])\n"
   ]
  },
  {
   "cell_type": "markdown",
   "id": "4OgAc7AQhl3V",
   "metadata": {
    "id": "4OgAc7AQhl3V"
   },
   "source": [
    "<span style=\"color:blue\">**Exercise D1.**</span>\n",
    "\n",
    "Part a: Use [`DataFrame.iloc` indexing](https://pandas.pydata.org/docs/reference/api/pandas.DataFrame.iloc.html) to print the row of `cities_df` with index 0.\n",
    "\n",
    "Part b: Use [`DataFrame.loc` indexing](https://pandas.pydata.org/docs/reference/api/pandas.DataFrame.loc.html) to print the row of `cities_df` with label 0. This will work because pandas defaults to integer labels when labels are not specified.\n",
    "\n",
    "<span style=\"color:blue\">**Exercise D2.**</span>\n",
    "\n",
    "Part a: Use [`DataFrame.iloc` indexing](https://pandas.pydata.org/docs/reference/api/pandas.DataFrame.iloc.html) to print the row of `populations_df`  with index 1.\n",
    "\n",
    "Part b: Use [`DataFrame.loc` indexing](https://pandas.pydata.org/docs/reference/api/pandas.DataFrame.loc.html) to print the row of `populations_df` with label 'New York'. Note that using `df.loc[1]`, as in the previous exercise, will produce a `KeyError` because `loc` searches for rows by their index value (here the city name) instead of an integer. This can be confusing because if you don't specify an index value, pandas defaults to setting the name of each row to its integer index.\n",
    "\n",
    "<span style=\"color:blue\">**Exercise D3.**</span> Use `df.iloc` to print the row of `df` (created in Exercise C4) with index 50.\n",
    "\n",
    "\n",
    "<span style=\"color:blue\">**Exercise D4.**</span> Use `df.iloc` and slicing to print the final 10 rows of `df`.\n"
   ]
  },
  {
   "cell_type": "code",
   "execution_count": null,
   "id": "86wQO9E3VCM3",
   "metadata": {
    "id": "86wQO9E3VCM3"
   },
   "outputs": [],
   "source": [
    "# D1 part a. your code here\n",
    "\n",
    "# D1 part b. your code here\n",
    "\n",
    "# D2 part a. your code here\n",
    "\n",
    "# D2 part b. your code here\n",
    "\n",
    "# D3 your code here\n",
    "\n",
    "# D4 your code here\n"
   ]
  },
  {
   "cell_type": "markdown",
   "id": "4zn58txZa9Wj",
   "metadata": {
    "id": "4zn58txZa9Wj"
   },
   "source": [
    "**Expected D1 - D4 Output**:\n",
    "\n",
    "```\n",
    "City          Ithaca\n",
    "Population     32108\n",
    "Name: 0, dtype: object\n",
    "City          Ithaca\n",
    "Population     32108\n",
    "Name: 0, dtype: object\n",
    "Population    8804190\n",
    "Name: New York, dtype: int64\n",
    "Population    8804190\n",
    "Name: New York, dtype: int64\n",
    "Temperature    13.3\n",
    "Area            7.4\n",
    "Name: 50, dtype: float64\n",
    "     Temperature   Area\n",
    "260         33.3  40.54\n",
    "261         27.3  10.82\n",
    "262         29.2   1.95\n",
    "263         28.9  49.59\n",
    "264         26.7   5.80\n",
    "265         21.1   2.17\n",
    "266         18.2   0.43\n",
    "267         27.8   6.44\n",
    "268         21.9  54.29\n",
    "269         21.2  11.16\n",
    "```"
   ]
  },
  {
   "cell_type": "markdown",
   "id": "KcJltX9Bh-Nj",
   "metadata": {
    "id": "KcJltX9Bh-Nj"
   },
   "source": [
    "----\n",
    "## E. Advanced indexing: pandas (25 points)\n"
   ]
  },
  {
   "cell_type": "markdown",
   "id": "MYawsb4fh_ob",
   "metadata": {
    "id": "MYawsb4fh_ob"
   },
   "source": [
    "### Goal: Access an entire column of a DataFrame.\n",
    "\n"
   ]
  },
  {
   "cell_type": "markdown",
   "id": "xxUr7BeBbyWN",
   "metadata": {
    "id": "xxUr7BeBbyWN"
   },
   "source": [
    "<span style=\"color:blue\">**Exercise E1.**</span> Use indexing to create a new series variable that contains the `df` DataFrame's `Temperature` column. Print this series.\n",
    "\n",
    "<span style=\"color:blue\">**Exercise E2.**</span> Use indexing to create a new series variable that contains the `df` DataFrame's `Area` column. Print this series."
   ]
  },
  {
   "cell_type": "code",
   "execution_count": null,
   "id": "wLYhlBVuVOYK",
   "metadata": {
    "id": "wLYhlBVuVOYK"
   },
   "outputs": [],
   "source": [
    "# E1: your code here\n",
    "\n",
    "# E2: your code here\n"
   ]
  },
  {
   "cell_type": "markdown",
   "id": "nz3U235DiFAK",
   "metadata": {
    "id": "nz3U235DiFAK"
   },
   "source": [
    "**Expected E1 - E2 Output**:\n",
    "\n",
    "```\n",
    "0      18.0\n",
    "1      21.7\n",
    "2      21.9\n",
    "3      23.3\n",
    "4      21.2\n",
    "       ...\n",
    "265    21.1\n",
    "266    18.2\n",
    "267    27.8\n",
    "268    21.9\n",
    "269    21.2\n",
    "Name: Temperature, Length: 270, dtype: float64\n",
    "0       0.36\n",
    "1       0.43\n",
    "2       0.47\n",
    "3       0.55\n",
    "4       0.61\n",
    "       ...  \n",
    "265     2.17\n",
    "266     0.43\n",
    "267     6.44\n",
    "268    54.29\n",
    "269    11.16\n",
    "Name: Area, Length: 270, dtype: float64\n",
    "```"
   ]
  },
  {
   "cell_type": "markdown",
   "id": "zg7f07RaiHwm",
   "metadata": {
    "id": "zg7f07RaiHwm"
   },
   "source": [
    "---\n",
    "### Goal: Check how many rows match a condition using `.sum()`.\n",
    "\n"
   ]
  },
  {
   "cell_type": "markdown",
   "id": "QDxJM3jxbxLL",
   "metadata": {
    "id": "QDxJM3jxbxLL"
   },
   "source": [
    "Summing a boolean Series yields the number of entries in the Series that are `True`. You can catch a lot of errors when using boolean indexing if you always count the number of selected rows when doing any DataFrame manipulation.\n",
    "\n",
    "<span style=\"color:blue\">**Exercise E3.**</span> Use boolean indexing to select the rows corresponding to fires with temperatures greater than 15 degrees.\n",
    "Create a boolean Series where each entry corresponds to whether the fire with the given index has a temperature greater than 15 degrees. Print the number of `True` values in this series by using `.sum()`."
   ]
  },
  {
   "cell_type": "code",
   "execution_count": null,
   "id": "KOuaw90-VQ6b",
   "metadata": {
    "id": "KOuaw90-VQ6b"
   },
   "outputs": [],
   "source": [
    "# E3: your code here\n"
   ]
  },
  {
   "cell_type": "markdown",
   "id": "9PsKb6REbilC",
   "metadata": {
    "id": "9PsKb6REbilC"
   },
   "source": [
    "**Expected E3 Output**:\n",
    "```\n",
    "216\n",
    "```"
   ]
  },
  {
   "cell_type": "markdown",
   "id": "kX4mkA6_iKj8",
   "metadata": {
    "id": "kX4mkA6_iKj8"
   },
   "source": [
    "---\n",
    "### Goal: Select rows from a DataFrame based on values in the columns."
   ]
  },
  {
   "cell_type": "markdown",
   "id": "KGj1S8vTiLlR",
   "metadata": {
    "id": "KGj1S8vTiLlR"
   },
   "source": [
    "<span style=\"color:blue\">**Exercise E4.**</span>\n",
    "\n",
    "Part a: Create a boolean series named `hightemp_selector` where each entry corresponds to whether the fire with the given index has a temperature greater than 15 degrees. Print this series.\n",
    "\n",
    "Part b: Use `df.loc` indexing to create a new DataFrame named `hightemp_df` that only contains the rows corresponding to these fires. You should call `hightemp_selector` in this line of code. Print the resulting smaller DataFrame.\n",
    "\n",
    "<span style=\"color:blue\">**Exercise E5.**</span>\n",
    "\n",
    "Part a: Create a boolean series named `smallarea_selector` where each entry corresponds to whether the fire with the given index has an area less than 10. Print this series.\n",
    "\n",
    "Part b: Use `df.loc` indexing to create a new DataFrame named `smallarea_df` that only contains the rows corresponding to these fires. You should call `smallarea_selector` in this line of code. Print the resulting smaller DataFrame.\n"
   ]
  },
  {
   "cell_type": "code",
   "execution_count": null,
   "id": "T3tjWPH2cc-L",
   "metadata": {
    "id": "T3tjWPH2cc-L"
   },
   "outputs": [],
   "source": [
    "# E4 part a. your code here\n",
    "\n",
    "# E4 part b. your code here\n",
    "\n",
    "# E5 part a. your code here\n",
    "\n",
    "# E5 part b. your code here\n"
   ]
  },
  {
   "cell_type": "markdown",
   "id": "h7GYB575cSQ_",
   "metadata": {
    "id": "h7GYB575cSQ_"
   },
   "source": [
    "**Expected E4 - E5 Output**:\n",
    "```\n",
    "0      True\n",
    "1      True\n",
    "2      True\n",
    "3      True\n",
    "4      True\n",
    "       ...\n",
    "265    True\n",
    "266    True\n",
    "267    True\n",
    "268    True\n",
    "269    True\n",
    "Name: Temperature, Length: 270, dtype: bool\n",
    "     Temperature   Area\n",
    "0           18.0   0.36\n",
    "1           21.7   0.43\n",
    "2           21.9   0.47\n",
    "3           23.3   0.55\n",
    "4           21.2   0.61\n",
    "..           ...    ...\n",
    "265         21.1   2.17\n",
    "266         18.2   0.43\n",
    "267         27.8   6.44\n",
    "268         21.9  54.29\n",
    "269         21.2  11.16\n",
    "\n",
    "[216 rows x 2 columns]\n",
    "0       True\n",
    "1       True\n",
    "2       True\n",
    "3       True\n",
    "4       True\n",
    "       ...  \n",
    "265     True\n",
    "266     True\n",
    "267     True\n",
    "268    False\n",
    "269    False\n",
    "Name: Area, Length: 270, dtype: bool\n",
    "     Temperature  Area\n",
    "0           18.0  0.36\n",
    "1           21.7  0.43\n",
    "2           21.9  0.47\n",
    "3           23.3  0.55\n",
    "4           21.2  0.61\n",
    "..           ...   ...\n",
    "262         29.2  1.95\n",
    "264         26.7  5.80\n",
    "265         21.1  2.17\n",
    "266         18.2  0.43\n",
    "267         27.8  6.44\n",
    "\n",
    "[175 rows x 2 columns]\n",
    "```"
   ]
  },
  {
   "cell_type": "markdown",
   "id": "3e4M4guKiQok",
   "metadata": {
    "id": "3e4M4guKiQok"
   },
   "source": [
    "---\n",
    "<span style=\"color:blue\">**Exercise E6.**</span>\n",
    "\n",
    "Using multiple conditions when indexing a DataFrame is very useful but syntactically confusing. We're going to have you do it in multiple steps with multiple variables first. Why multiple steps? Otherwise the single line of code looks like a magical formula. Once you get the individual steps, we'll have you combine the steps into one line of code that you can use later. A single line is also how you'll often see DataFrame indexing written. We want to show you how to recognize overall patterns that are getting combined for complex behavior.\n",
    "\n",
    "Part a: Create a boolean series variable called `low_area_selector` where each entry corresponds to whether the fire with the given index has an area greater than or equal to 10. Create a second boolean series called `high_area_selector` where each entry corresponds to whether the fire with the given index has an area less than or equal to 20. Finally, create a third series called `selector` by taking the boolean *and* of the first two series (which can be done with the `&` operator). Print the `selector` series.\n",
    "\n",
    "Part b: Use `df.loc` indexing to create a new DataFrame that only contains the rows corresponding to these fires. Print the resulting smaller DataFrame.\n",
    "\n",
    "Part c: We've had you perform this indexing using multiple lines of code. Rewrite the previous part to use only one line of code. You will need to use parentheses around the boolean predicates, otherwise you will get an error. It's always good to be able to recognize error messages, so try this part without the parentheses first. Print the resulting dataframe. The output should be the same as in part b."
   ]
  },
  {
   "cell_type": "code",
   "execution_count": null,
   "id": "Aukr-1Goc6Z2",
   "metadata": {
    "id": "Aukr-1Goc6Z2"
   },
   "outputs": [],
   "source": [
    "# E6 part a. your code here\n",
    "\n",
    "# E6 part b. your code here\n",
    "\n",
    "# E6 part c. your code here\n"
   ]
  },
  {
   "cell_type": "markdown",
   "id": "cFqRBH8xc3NP",
   "metadata": {
    "id": "cFqRBH8xc3NP"
   },
   "source": [
    "**Expected E6 Output**:\n",
    "\n",
    "```\n",
    "0      False\n",
    "1      False\n",
    "2      False\n",
    "3      False\n",
    "4      False\n",
    "       ...  \n",
    "265    False\n",
    "266    False\n",
    "267    False\n",
    "268    False\n",
    "269     True\n",
    "Name: Area, Length: 270, dtype: bool\n",
    "     Temperature   Area\n",
    "56          24.6  10.01\n",
    "57          23.5  10.02\n",
    "58           5.8  10.93\n",
    "59          21.5  11.06\n",
    "60          13.9  11.24\n",
    "61          22.6  11.32\n",
    "62          21.6  11.53\n",
    "63          12.4  12.10\n",
    "64           8.8  13.05\n",
    "65          20.2  13.70\n",
    "66          15.1  13.99\n",
    "67          22.1  14.57\n",
    "68          22.9  15.45\n",
    "69          20.7  17.20\n",
    "70          19.6  19.23\n",
    "101         15.4  10.13\n",
    "111         18.9  10.34\n",
    "127          5.1  11.19\n",
    "129          4.6  17.85\n",
    "130          4.6  10.73\n",
    "145         24.8  14.29\n",
    "156         21.5  15.64\n",
    "157         17.1  11.22\n",
    "173         20.8  13.06\n",
    "183         16.8  12.64\n",
    "184         13.8  11.06\n",
    "185         10.3  18.30\n",
    "189         16.2  16.33\n",
    "192         21.3  12.18\n",
    "193         20.9  16.00\n",
    "220         20.9  15.34\n",
    "243         26.4  10.08\n",
    "254         26.4  16.40\n",
    "259         32.3  14.68\n",
    "261         27.3  10.82\n",
    "269         21.2  11.16\n",
    "     Temperature   Area\n",
    "56          24.6  10.01\n",
    "57          23.5  10.02\n",
    "58           5.8  10.93\n",
    "59          21.5  11.06\n",
    "60          13.9  11.24\n",
    "61          22.6  11.32\n",
    "62          21.6  11.53\n",
    "63          12.4  12.10\n",
    "64           8.8  13.05\n",
    "65          20.2  13.70\n",
    "66          15.1  13.99\n",
    "67          22.1  14.57\n",
    "68          22.9  15.45\n",
    "69          20.7  17.20\n",
    "70          19.6  19.23\n",
    "101         15.4  10.13\n",
    "111         18.9  10.34\n",
    "127          5.1  11.19\n",
    "129          4.6  17.85\n",
    "130          4.6  10.73\n",
    "145         24.8  14.29\n",
    "156         21.5  15.64\n",
    "157         17.1  11.22\n",
    "173         20.8  13.06\n",
    "183         16.8  12.64\n",
    "184         13.8  11.06\n",
    "185         10.3  18.30\n",
    "189         16.2  16.33\n",
    "192         21.3  12.18\n",
    "193         20.9  16.00\n",
    "220         20.9  15.34\n",
    "243         26.4  10.08\n",
    "254         26.4  16.40\n",
    "259         32.3  14.68\n",
    "261         27.3  10.82\n",
    "269         21.2  11.16\n",
    "\n",
    "```"
   ]
  },
  {
   "cell_type": "markdown",
   "id": "7jiQV3__iTxv",
   "metadata": {
    "id": "7jiQV3__iTxv"
   },
   "source": [
    "----\n",
    "<span style=\"color:blue\">**Exercise E7.**</span>\n",
    "\n",
    "Part a: Create a boolean series called `area_selector` where each entry corresponds to whether the fire with the given index has an area less than 15. Create a second boolean series called `temp_selector` where each entry corresponds to whether the fire with the given index has a temperature greater than 25. Finally, create a third series called `selector` by taking the boolean *and* of the first two series. Print the `selector` series.\n",
    "\n",
    "Part b: Use `df.loc` indexing to create a new DataFrame that only contains the rows corresponding to these fires. Print the resulting smaller DataFrame:\n",
    "\n",
    "Part c: As in the previous exercise, combine all of the above into one line. Remember to surround each predicate with parentheses. Print the final DataFrame. It should be the same as in part b."
   ]
  },
  {
   "cell_type": "code",
   "execution_count": null,
   "id": "QJLvPOJ4VVTh",
   "metadata": {
    "id": "QJLvPOJ4VVTh"
   },
   "outputs": [],
   "source": [
    "# E7 part a. your code here\n",
    "\n",
    "# E7 part b. your code here\n",
    "\n",
    "# E7 part c. your code here\n"
   ]
  },
  {
   "cell_type": "markdown",
   "id": "GGDxNdw2dHRw",
   "metadata": {
    "id": "GGDxNdw2dHRw"
   },
   "source": [
    "\n",
    "**Expected E7 Output**:\n",
    "\n",
    "```\n",
    "0      False\n",
    "1      False\n",
    "2      False\n",
    "3      False\n",
    "4      False\n",
    "       ...  \n",
    "265    False\n",
    "266    False\n",
    "267     True\n",
    "268    False\n",
    "269    False\n",
    "Length: 270, dtype: bool\n",
    "     Temperature   Area\n",
    "7           27.4   0.90\n",
    "16          29.6   1.46\n",
    "18          28.6   1.61\n",
    "103         26.8   0.76\n",
    "104         25.7   0.09\n",
    "107         26.8   0.68\n",
    "115         28.3   8.85\n",
    "137         25.3   8.00\n",
    "190         28.2   5.86\n",
    "202         28.0   8.16\n",
    "210         26.3   7.02\n",
    "214         29.3   6.30\n",
    "216         26.9   4.96\n",
    "217         27.9   2.35\n",
    "221         26.8   0.54\n",
    "224         25.5   1.23\n",
    "243         26.4  10.08\n",
    "245         27.2   1.76\n",
    "246         26.1   7.36\n",
    "249         30.2   2.75\n",
    "252         30.6   2.07\n",
    "257         30.8   8.59\n",
    "258         32.6   2.77\n",
    "259         32.3  14.68\n",
    "261         27.3  10.82\n",
    "262         29.2   1.95\n",
    "264         26.7   5.80\n",
    "267         27.8   6.44\n",
    "     Temperature   Area\n",
    "7           27.4   0.90\n",
    "16          29.6   1.46\n",
    "18          28.6   1.61\n",
    "103         26.8   0.76\n",
    "104         25.7   0.09\n",
    "107         26.8   0.68\n",
    "115         28.3   8.85\n",
    "137         25.3   8.00\n",
    "190         28.2   5.86\n",
    "202         28.0   8.16\n",
    "210         26.3   7.02\n",
    "214         29.3   6.30\n",
    "216         26.9   4.96\n",
    "217         27.9   2.35\n",
    "221         26.8   0.54\n",
    "224         25.5   1.23\n",
    "243         26.4  10.08\n",
    "245         27.2   1.76\n",
    "246         26.1   7.36\n",
    "249         30.2   2.75\n",
    "252         30.6   2.07\n",
    "257         30.8   8.59\n",
    "258         32.6   2.77\n",
    "259         32.3  14.68\n",
    "261         27.3  10.82\n",
    "262         29.2   1.95\n",
    "264         26.7   5.80\n",
    "267         27.8   6.44\n",
    "\n",
    "```"
   ]
  },
  {
   "cell_type": "markdown",
   "id": "C4bLZMruiW8O",
   "metadata": {
    "id": "C4bLZMruiW8O"
   },
   "source": [
    "----\n",
    "### Goal: Summarize a Series with `.mean()` and `.sum()`.\n",
    "\n",
    "<span style=\"color:blue\">**Exercise E8.**</span> Print the mean temperature of all 270 fires in `df`.\n",
    "\n",
    "<span style=\"color:blue\">**Exercise E9.**</span> Print the mean area of all 270 fires in `df`.\n",
    "\n",
    "<span style=\"color:blue\">**Exercise E10.**</span> Print the total temperature of all 270 fires in `df`."
   ]
  },
  {
   "cell_type": "code",
   "execution_count": null,
   "id": "-jbrN81jVX7u",
   "metadata": {
    "id": "-jbrN81jVX7u"
   },
   "outputs": [],
   "source": [
    "# E8: your code here\n",
    "\n",
    "# E9: your code here\n",
    "\n",
    "# E10: your code here\n"
   ]
  },
  {
   "cell_type": "markdown",
   "id": "pSvCHSJiiZKj",
   "metadata": {
    "id": "pSvCHSJiiZKj"
   },
   "source": [
    "**Expected E8 - E10 Output**:\n",
    "\n",
    "```\n",
    "19.31111111111111\n",
    "24.600185185185182\n",
    "5214.0\n",
    "```\n",
    "\n",
    "*Note:* Depending on your machine, the last few digits of your output may not exactly match the output provided above."
   ]
  },
  {
   "cell_type": "markdown",
   "id": "aosAtA2YidmI",
   "metadata": {
    "id": "aosAtA2YidmI"
   },
   "source": [
    "# F. Advanced indexing: SQL  (25 points)\n",
    "\n",
    "For this section, you will now answer similar problems as in section E, but using SQL instead of pandas. You do not need the pandas indexing to write your SQL code. You will be using the duckdb library. Remember that you must wrap your SQL query in quotes inside the parentheses of `duckdb.sql()`. Finally, in order to convert this output into a pandas dataframe, you must use `.df()` at the end of your code. See the documentation [*here*](https://duckdb.org/docs/guides/python/sql_on_pandas).\n",
    "\n",
    "If you want to split lines of SQL code within parentheses (so `SELECT` is on a different line from `FROM`, and so on), you can use the backslash character ```\\```.\n",
    "\n"
   ]
  },
  {
   "cell_type": "markdown",
   "id": "LVJ0ZqflifFk",
   "metadata": {
    "id": "LVJ0ZqflifFk"
   },
   "source": [
    "### Goal: Access an entire column of a DataFrame."
   ]
  },
  {
   "cell_type": "markdown",
   "id": "djwZibHIigBG",
   "metadata": {
    "id": "djwZibHIigBG"
   },
   "source": [
    "<span style=\"color:blue\">**Exercise F1.**</span>  Use DuckDB and SQL to create a new variable that contains the `df` DataFrame's `Temperature` column. Print this variable.\n",
    "\n",
    "<span style=\"color:blue\">**Exercise F2.**</span> Use DuckDB and SQL to create a new variable that contains the `df` DataFrame's `Area` column. Print this variable.\n"
   ]
  },
  {
   "cell_type": "code",
   "execution_count": null,
   "id": "haPWcI5VVybR",
   "metadata": {
    "id": "haPWcI5VVybR"
   },
   "outputs": [],
   "source": [
    "# F1: your code here\n",
    "\n",
    "# F2: your code here\n"
   ]
  },
  {
   "cell_type": "markdown",
   "id": "5qKnduWnijGF",
   "metadata": {
    "id": "5qKnduWnijGF"
   },
   "source": [
    "**Expected F1 - F2 Output**:\n",
    "\n",
    "```\n",
    "     Temperature\n",
    "0           18.0\n",
    "1           21.7\n",
    "2           21.9\n",
    "3           23.3\n",
    "4           21.2\n",
    "..           ...\n",
    "265         21.1\n",
    "266         18.2\n",
    "267         27.8\n",
    "268         21.9\n",
    "269         21.2\n",
    "\n",
    "[270 rows x 1 columns]\n",
    "      Area\n",
    "0     0.36\n",
    "1     0.43\n",
    "2     0.47\n",
    "3     0.55\n",
    "4     0.61\n",
    "..     ...\n",
    "265   2.17\n",
    "266   0.43\n",
    "267   6.44\n",
    "268  54.29\n",
    "269  11.16\n",
    "\n",
    "[270 rows x 1 columns]\n",
    "```"
   ]
  },
  {
   "cell_type": "markdown",
   "id": "W8UsgKKIilUh",
   "metadata": {
    "id": "W8UsgKKIilUh"
   },
   "source": [
    "---\n",
    "### Goal: Check how many rows match a condition using `WHERE` and `COUNT`.\n",
    "\n",
    "<span style=\"color:blue\">**Exercise F3.**</span>\n",
    "\n",
    "Part a: Use `WHERE` to create a new DataFrame including only fires where the temperature is less than 6 degrees. Print this new DataFrame.\n",
    "\n",
    "Part b: Use `COUNT` to return the number of rows in the DataFrame created in part a. Print this number.\n",
    "\n"
   ]
  },
  {
   "cell_type": "code",
   "execution_count": null,
   "id": "I3I1Cy-sV5Sg",
   "metadata": {
    "id": "I3I1Cy-sV5Sg"
   },
   "outputs": [],
   "source": [
    "# F3 part a: your code here\n",
    "\n",
    "# F3 part b: your code here\n"
   ]
  },
  {
   "cell_type": "markdown",
   "id": "zCBYdaPLeC-Y",
   "metadata": {
    "id": "zCBYdaPLeC-Y"
   },
   "source": [
    "**Expected F3 Output**:\n",
    "```\n",
    "    Temperature   Area\n",
    "0           5.3   2.14\n",
    "1           5.8   4.61\n",
    "2           5.8  10.93\n",
    "3           5.1  26.00\n",
    "4           4.8   8.98\n",
    "5           5.1  11.19\n",
    "6           5.1   5.38\n",
    "7           4.6  17.85\n",
    "8           4.6  10.73\n",
    "9           4.6  22.03\n",
    "10          4.6   9.77\n",
    "11          2.2   9.27\n",
    "12          5.1  24.77\n",
    "13          4.6   5.39\n",
    "14          5.1   2.14\n",
    "15          4.6   6.84\n",
    "\n",
    "   count_star()\n",
    "0            16\n",
    "```"
   ]
  },
  {
   "cell_type": "markdown",
   "id": "iWq6NajMinye",
   "metadata": {
    "id": "iWq6NajMinye"
   },
   "source": [
    "---\n",
    "### Goal: Select rows from a DataFrame based on values in the columns."
   ]
  },
  {
   "cell_type": "markdown",
   "id": "Q01maPPdiopS",
   "metadata": {
    "id": "Q01maPPdiopS"
   },
   "source": [
    "<span style=\"color:blue\">**Exercise F4.**</span> Select the rows of the original DataFrame corresponding to fires with an area less than 10. Print the resulting smaller DataFrame.\n",
    "\n",
    "<span style=\"color:blue\">**Exercise F5.**</span> Select the rows corresponding to fires with an area between 10 and 20 (inclusive). As we did with pandas, you will select rows based on multiple conditions. Use `AND` to select on two conditions in a single SQL statement. Print the resulting DataFrame.\n",
    "\n",
    "<span style=\"color:blue\">**Exercise F6.**</span> Select the rows corresponding to fires that have *both* a temperature less than 15 and an area greater than 25. Print the resulting DataFrame."
   ]
  },
  {
   "cell_type": "code",
   "execution_count": null,
   "id": "uKM_OIeNV7mz",
   "metadata": {
    "id": "uKM_OIeNV7mz"
   },
   "outputs": [],
   "source": [
    "# F4: your code here\n",
    "\n",
    "# F5: your code here\n",
    "\n",
    "# F6: your code here\n"
   ]
  },
  {
   "cell_type": "markdown",
   "id": "04Csv1u7irFS",
   "metadata": {
    "id": "04Csv1u7irFS"
   },
   "source": [
    "**Expected F4 - F6 Output**:\n",
    "```\n",
    "     Temperature  Area\n",
    "0           18.0  0.36\n",
    "1           21.7  0.43\n",
    "2           21.9  0.47\n",
    "3           23.3  0.55\n",
    "4           21.2  0.61\n",
    "..           ...   ...\n",
    "170         29.2  1.95\n",
    "171         26.7  5.80\n",
    "172         21.1  2.17\n",
    "173         18.2  0.43\n",
    "174         27.8  6.44\n",
    "\n",
    "[175 rows x 2 columns]\n",
    "    Temperature   Area\n",
    "0          24.6  10.01\n",
    "1          23.5  10.02\n",
    "2           5.8  10.93\n",
    "3          21.5  11.06\n",
    "4          13.9  11.24\n",
    "5          22.6  11.32\n",
    "6          21.6  11.53\n",
    "7          12.4  12.10\n",
    "8           8.8  13.05\n",
    "9          20.2  13.70\n",
    "10         15.1  13.99\n",
    "11         22.1  14.57\n",
    "12         22.9  15.45\n",
    "13         20.7  17.20\n",
    "14         19.6  19.23\n",
    "15         15.4  10.13\n",
    "16         18.9  10.34\n",
    "17          5.1  11.19\n",
    "18          4.6  17.85\n",
    "19          4.6  10.73\n",
    "20         24.8  14.29\n",
    "21         21.5  15.64\n",
    "22         17.1  11.22\n",
    "23         20.8  13.06\n",
    "24         16.8  12.64\n",
    "25         13.8  11.06\n",
    "26         10.3  18.30\n",
    "27         16.2  16.33\n",
    "28         21.3  12.18\n",
    "29         20.9  16.00\n",
    "30         20.9  15.34\n",
    "31         26.4  10.08\n",
    "32         26.4  16.40\n",
    "33         32.3  14.68\n",
    "34         27.3  10.82\n",
    "35         21.2  11.16\n",
    "   Temperature   Area\n",
    "0          5.1  26.00\n",
    "1         11.0  27.35\n",
    "2         12.4  30.32\n",
    "3         11.0  36.85\n",
    "4         13.4  37.02\n",
    "5         10.1  51.78\n",
    "6         13.7  61.13\n",
    "```"
   ]
  },
  {
   "cell_type": "markdown",
   "id": "jv2s4KYGeuXj",
   "metadata": {
    "id": "jv2s4KYGeuXj"
   },
   "source": [
    "----\n",
    "### Goal: Summarize a Series with `Avg()` and `Sum()`.\n",
    "\n"
   ]
  },
  {
   "cell_type": "markdown",
   "id": "ZfW1nenwe0Ay",
   "metadata": {
    "id": "ZfW1nenwe0Ay"
   },
   "source": [
    "<span style=\"color:blue\">**Exercise F7.**</span> Use SQL commands to print the mean temperature of all 270 fires in `df`.\n",
    "\n",
    "<span style=\"color:blue\">**Exercise F8.**</span> Use SQL commands to print the mean area of all 270 fires in `df`.\n",
    "\n",
    "<span style=\"color:blue\">**Exercise F9.**</span> Use SQL commands to print the total area of all 270 fires in `df`."
   ]
  },
  {
   "cell_type": "code",
   "execution_count": null,
   "id": "qtCvZDt2V9zk",
   "metadata": {
    "id": "qtCvZDt2V9zk"
   },
   "outputs": [],
   "source": [
    "# F7: your code here\n",
    "\n",
    "# F8: your code here\n",
    "\n",
    "# F9: your code here\n"
   ]
  },
  {
   "cell_type": "markdown",
   "id": "QiA9Mb7Eivok",
   "metadata": {
    "id": "QiA9Mb7Eivok"
   },
   "source": [
    "**Expeceted F7 - F9 Output**:\n",
    "```\n",
    "   avg(Temperature)\n",
    "0         19.311111\n",
    "   avg(Area)\n",
    "0  24.600185\n",
    "   sum(Area)\n",
    "0    6642.05\n",
    "```"
   ]
  },
  {
   "cell_type": "markdown",
   "id": "1abb2372",
   "metadata": {
    "id": "1abb2372"
   },
   "source": [
    "---\n",
    "**How long it did it take you to complete this homework?**\n",
    "\n",
    "Add your answer (an estimate in hours) in the cell below."
   ]
  },
  {
   "cell_type": "markdown",
   "id": "fOjGF7_I7b0D",
   "metadata": {
    "id": "fOjGF7_I7b0D"
   },
   "source": [
    "*Time taken here*:"
   ]
  }
 ],
 "metadata": {
  "colab": {
   "provenance": [],
   "toc_visible": true
  },
  "kernelspec": {
   "display_name": "Python 3 (ipykernel)",
   "language": "python",
   "name": "python3"
  },
  "language_info": {
   "codemirror_mode": {
    "name": "ipython",
    "version": 3
   },
   "file_extension": ".py",
   "mimetype": "text/x-python",
   "name": "python",
   "nbconvert_exporter": "python",
   "pygments_lexer": "ipython3",
   "version": "3.13.5"
  }
 },
 "nbformat": 4,
 "nbformat_minor": 5
}
